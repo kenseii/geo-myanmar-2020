{
 "cells": [
  {
   "cell_type": "code",
   "execution_count": null,
   "metadata": {},
   "outputs": [],
   "source": [
    "%matplotlib inline\n",
    "\n",
    "import ast\n",
    "from functools import partial\n",
    "import geopandas as gpd\n",
    "from geopy.geocoders import Nominatim\n",
    "from geopy.extra.rate_limiter import RateLimiter\n",
    "from keplergl import KeplerGl\n",
    "import matplotlib.pyplot as plt\n",
    "import pandas as pd"
   ]
  },
  {
   "cell_type": "markdown",
   "metadata": {},
   "source": [
    "## Datasets\n",
    "1. Kinki area origin and destination dataset\n",
    "2. Myanmar 2014 census dataset"
   ]
  },
  {
   "cell_type": "markdown",
   "metadata": {},
   "source": [
    "## Origin and destination visualization"
   ]
  },
  {
   "cell_type": "code",
   "execution_count": null,
   "metadata": {},
   "outputs": [],
   "source": [
    "# loading in the dataset\n",
    "odf = gpd.read_file(\"data/kinki/S05-b-12_KINKI_GML/S05-b-12_KINKI-g_PersonTripODAmount.shp\")\n",
    "odf.head()"
   ]
  },
  {
   "cell_type": "code",
   "execution_count": null,
   "metadata": {},
   "outputs": [],
   "source": [
    "# year, origin code, destination code, total train trips count, total trips count, geometry\n",
    "odf[['S05b_002', 'S05b_003', 'S05b_004', 'S05b_010', 'S05b_035', 'geometry']]"
   ]
  },
  {
   "cell_type": "code",
   "execution_count": null,
   "metadata": {},
   "outputs": [],
   "source": [
    "# http://nlftp.mlit.go.jp/ksj/gml/codelist/KinkiAreaZoneCd.html"
   ]
  },
  {
   "cell_type": "code",
   "execution_count": null,
   "metadata": {},
   "outputs": [],
   "source": [
    "# kobe data\n",
    "kobe = odf.query('S05b_003 == \"71110\"')\n",
    "len(kobe)"
   ]
  },
  {
   "cell_type": "code",
   "execution_count": null,
   "metadata": {},
   "outputs": [],
   "source": [
    "kobe.plot(figsize=(15,9));"
   ]
  },
  {
   "cell_type": "code",
   "execution_count": null,
   "metadata": {},
   "outputs": [],
   "source": [
    "# retain only necessary columns\n",
    "odf_necessary = odf[['S05b_003', 'S05b_004',  'S05b_010', 'S05b_035', 'geometry']]\n",
    "odf_necessary.columns = ['zone01', 'zone02', 'trip_train', 'trip_all', 'geometry']\n",
    "odf_necessary.head()"
   ]
  },
  {
   "cell_type": "markdown",
   "metadata": {},
   "source": [
    "### extract latitude and longitude of the Origin & Destination"
   ]
  },
  {
   "cell_type": "code",
   "execution_count": null,
   "metadata": {},
   "outputs": [],
   "source": [
    "odf_lat_long = odf_necessary.assign(\n",
    "    lng_to=lambda odf_necessary: odf_necessary.apply(lambda row: row['geometry'].xy[0][0], axis=1) ,\n",
    "    lng_from=lambda odf_necessary: odf_necessary.apply(lambda row: row['geometry'].xy[0][1], axis=1) ,\n",
    "    lat_to=lambda odf_necessary: odf_necessary.apply(lambda row: row['geometry'].xy[1][0], axis=1) ,\n",
    "    lat_from=lambda odf_necessary: odf_necessary.apply(lambda row: row['geometry'].xy[1][1], axis=1) \n",
    ")"
   ]
  },
  {
   "cell_type": "code",
   "execution_count": null,
   "metadata": {},
   "outputs": [],
   "source": [
    "odf_lat_long.head()"
   ]
  },
  {
   "cell_type": "code",
   "execution_count": null,
   "metadata": {},
   "outputs": [],
   "source": [
    "# reading in the kepler config file\n",
    "keplerconfig = open(\"config/kepler_config.txt\").read()"
   ]
  },
  {
   "cell_type": "code",
   "execution_count": null,
   "metadata": {},
   "outputs": [],
   "source": [
    "keplerconfig"
   ]
  },
  {
   "cell_type": "code",
   "execution_count": null,
   "metadata": {},
   "outputs": [],
   "source": [
    "map_personTripOD_curve = KeplerGl(height=600, config=ast.literal_eval(keplerconfig))\n",
    "map_personTripOD_curve.add_data(data=odf_lat_long, name='ODTrip')\n",
    "map_personTripOD_curve"
   ]
  },
  {
   "cell_type": "code",
   "execution_count": null,
   "metadata": {},
   "outputs": [],
   "source": [
    "map_personTripOD_curve.save_to_html(file_name=\"TripOD_map.html\")"
   ]
  },
  {
   "cell_type": "code",
   "execution_count": null,
   "metadata": {},
   "outputs": [],
   "source": [
    "map_personTripOD_curve.config"
   ]
  },
  {
   "cell_type": "code",
   "execution_count": null,
   "metadata": {},
   "outputs": [],
   "source": [
    "# saving the current kepler settings\n",
    "# Note, if you didnt change the rendered output, you dont need to run this cell\n",
    "# with open(\"config/kepler_config.txt\",'w') as kepler_config_file:\n",
    "#     kepler_config_file.write(str(map_personTripOD_curve.config))"
   ]
  },
  {
   "cell_type": "markdown",
   "metadata": {},
   "source": [
    "### Myanmar census dataset"
   ]
  },
  {
   "cell_type": "code",
   "execution_count": null,
   "metadata": {},
   "outputs": [],
   "source": [
    "householdf = pd.read_csv(\"data/census/householdspopulationbaseddatasetsrunion.csv\")"
   ]
  },
  {
   "cell_type": "code",
   "execution_count": null,
   "metadata": {
    "scrolled": true
   },
   "outputs": [],
   "source": [
    "householdf"
   ]
  },
  {
   "cell_type": "code",
   "execution_count": null,
   "metadata": {},
   "outputs": [],
   "source": [
    "householdf = householdf.drop([0])\n",
    "householdf"
   ]
  },
  {
   "cell_type": "code",
   "execution_count": null,
   "metadata": {},
   "outputs": [],
   "source": [
    "# keep only the columns we need\n",
    "# state, population in conventional households, mean household size, population on both genders\n",
    "householdf_needed_cols = householdf[['name_st', 'pop_hh',  'mean_hhsize', 'pop_t']]\n",
    "householdf_needed_cols"
   ]
  },
  {
   "cell_type": "markdown",
   "metadata": {},
   "source": [
    "### geocode the dataset"
   ]
  },
  {
   "cell_type": "code",
   "execution_count": null,
   "metadata": {},
   "outputs": [],
   "source": [
    "geolocator = Nominatim(user_agent=\"geopy/1.20.0\")\n",
    "geocode = RateLimiter(geolocator.geocode, min_delay_seconds=1)\n",
    "householdf_needed_cols['location'] = householdf_needed_cols['name_st'].apply(partial(geocode, language='my'))"
   ]
  },
  {
   "cell_type": "code",
   "execution_count": null,
   "metadata": {},
   "outputs": [],
   "source": [
    "householdf_needed_cols_lat_long = householdf_needed_cols.assign(\n",
    "    latitude=lambda householdf_needed_cols: householdf_needed_cols.apply(lambda x: x[\"location\"].latitude, axis=1),\n",
    "    longitude=lambda householdf_needed_cols: householdf_needed_cols.apply(lambda x: x[\"location\"].longitude, axis=1)\n",
    "\n",
    ")\n",
    "householdf_needed_cols_lat_long"
   ]
  },
  {
   "cell_type": "markdown",
   "metadata": {},
   "source": [
    "### hexbin distribution"
   ]
  },
  {
   "cell_type": "code",
   "execution_count": null,
   "metadata": {},
   "outputs": [],
   "source": [
    "# reading in the kepler config file\n",
    "spatialconfig = open(\"config/hexbin_config.txt\").read()\n",
    "spatialconfig"
   ]
  },
  {
   "cell_type": "code",
   "execution_count": null,
   "metadata": {},
   "outputs": [],
   "source": [
    "myanmar_population_dist = KeplerGl(height=600, data={\"householdf_needed_cols_lat_long\": householdf_needed_cols_lat_long[[\"pop_t\", \"name_st\", \"latitude\", \"longitude\"]]}, config=ast.literal_eval(spatialconfig))\n",
    "myanmar_population_dist"
   ]
  },
  {
   "cell_type": "code",
   "execution_count": null,
   "metadata": {},
   "outputs": [],
   "source": [
    "myanmar_population_dist.save_to_html(file_name=\"myanmar_population_dist.html\")"
   ]
  },
  {
   "cell_type": "markdown",
   "metadata": {},
   "source": [
    "### as you can see the geocoding process doesnt always return the correct coordinates\n",
    "\n",
    "### Homework :-)\n",
    "1. if you are interested you can correct the coordinates for chin, mon and shan then change the map to show the correct coordinates(one way would be to check if a returned coordinate belongs to a myanmar polygon(*remember the within...?*) before adding it to the dataframe).\n",
    "2. you can also try to use a polygon instead of a hexbin to have a more accurate graph"
   ]
  },
  {
   "cell_type": "code",
   "execution_count": null,
   "metadata": {},
   "outputs": [],
   "source": []
  }
 ],
 "metadata": {
  "kernelspec": {
   "display_name": "Python 3",
   "language": "python",
   "name": "python3"
  },
  "language_info": {
   "codemirror_mode": {
    "name": "ipython",
    "version": 3
   },
   "file_extension": ".py",
   "mimetype": "text/x-python",
   "name": "python",
   "nbconvert_exporter": "python",
   "pygments_lexer": "ipython3",
   "version": "3.6.5"
  }
 },
 "nbformat": 4,
 "nbformat_minor": 2
}
