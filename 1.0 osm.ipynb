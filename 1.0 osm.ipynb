{
 "cells": [
  {
   "cell_type": "markdown",
   "metadata": {},
   "source": [
    "## Interaction with openstreetmap data"
   ]
  },
  {
   "cell_type": "code",
   "execution_count": null,
   "metadata": {},
   "outputs": [],
   "source": [
    "# imports\n",
    "import networkx as nx\n",
    "import osmnx as ox\n",
    "import requests\n",
    "import matplotlib.cm as cm\n",
    "import matplotlib.colors as colors\n",
    "ox.config(use_cache=True, log_console=True)\n",
    "ox.__version__"
   ]
  },
  {
   "cell_type": "markdown",
   "metadata": {},
   "source": [
    "### get some data about a certain area/city"
   ]
  },
  {
   "cell_type": "code",
   "execution_count": null,
   "metadata": {},
   "outputs": [],
   "source": [
    "G = ox.graph_from_place('Danubyu, Ayeyarwady Region, Myanmar', network_type='walk')\n",
    "fig, ax = ox.plot_graph(G)"
   ]
  },
  {
   "cell_type": "code",
   "execution_count": null,
   "metadata": {},
   "outputs": [],
   "source": [
    "G_proj = ox.project_graph(G)\n",
    "nodes_proj = ox.graph_to_gdfs(G_proj, edges=False)\n",
    "graph_area_m = nodes_proj.unary_union.convex_hull.area\n",
    "# street network area in km2\n",
    "graph_area_m/1_000_000"
   ]
  },
  {
   "cell_type": "markdown",
   "metadata": {},
   "source": [
    "### Street centrality"
   ]
  },
  {
   "cell_type": "code",
   "execution_count": null,
   "metadata": {},
   "outputs": [],
   "source": [
    "# edge closeness centrality: convert graph to line graph so edges become nodes and vice versa\n",
    "edge_centrality = nx.closeness_centrality(nx.line_graph(G))"
   ]
  },
  {
   "cell_type": "code",
   "execution_count": null,
   "metadata": {},
   "outputs": [],
   "source": [
    "# list of edge values for the orginal graph\n",
    "ev = [edge_centrality[edge + (0,)] for edge in G.edges()]\n",
    "\n",
    "# color scale converted to list of colors for graph edges\n",
    "norm = colors.Normalize(vmin=min(ev)*0.8, vmax=max(ev))\n",
    "cmap = cm.ScalarMappable(norm=norm, cmap=cm.inferno)\n",
    "ec = [cmap.to_rgba(cl) for cl in ev]\n",
    "\n",
    "# color the edges in the original graph with closeness centralities in the line graph\n",
    "fig, ax = ox.plot_graph(G, bgcolor='k', axis_off=True, fig_height=9, fig_width=16, node_size=0, edge_color=ec, edge_linewidth=1.5, edge_alpha=1)"
   ]
  },
  {
   "cell_type": "markdown",
   "metadata": {},
   "source": [
    "### Building footprint in Danubyu area"
   ]
  },
  {
   "cell_type": "code",
   "execution_count": null,
   "metadata": {},
   "outputs": [],
   "source": [
    "gdf = ox.footprints.footprints_from_place(place='Danubyu, Ayeyarwady Region, Myanmar')\n",
    "gdf_proj = ox.project_gdf(gdf)\n",
    "fig, ax = ox.footprints.plot_footprints(gdf_proj, bgcolor='black', color='yellow', figsize=(9,9),\n",
    "                           show=True, filename='danubyu_bldgs', dpi=90)\n"
   ]
  },
  {
   "cell_type": "code",
   "execution_count": null,
   "metadata": {},
   "outputs": [],
   "source": [
    "ox.plot_graph_folium(G, edge_color=\"green\", edge_width=2)"
   ]
  },
  {
   "cell_type": "markdown",
   "metadata": {},
   "source": [
    "### lets check what area is covered by buildings and how much percentage"
   ]
  },
  {
   "cell_type": "code",
   "execution_count": null,
   "metadata": {},
   "outputs": [],
   "source": [
    "# calculate the area in projected units (m2) of each building footprint, then display first five\n",
    "areas = gdf_proj.area\n",
    "areas.head()"
   ]
  },
  {
   "cell_type": "code",
   "execution_count": null,
   "metadata": {},
   "outputs": [],
   "source": [
    "# total area (sqm) covered by building footprints\n",
    "total_building_area = sum(areas)\n",
    "total_building_area"
   ]
  },
  {
   "cell_type": "code",
   "execution_count": null,
   "metadata": {},
   "outputs": [],
   "source": [
    "# getting the area of danubyu(if you wonder why we didnt use the third code cell its because that one \n",
    "# is just a stret network not the district)\n",
    "place = ox.gdf_from_place('Danubyu, Ayeyarwady Region, Myanmar')\n",
    "place_proj = ox.project_gdf(place)\n",
    "danubyu_area = place_proj.area.iloc[0]\n",
    "danubyu_area"
   ]
  },
  {
   "cell_type": "code",
   "execution_count": null,
   "metadata": {},
   "outputs": [],
   "source": [
    "# percentage\n",
    "(total_building_area/danubyu_area) * 100"
   ]
  },
  {
   "cell_type": "markdown",
   "metadata": {},
   "source": [
    "it seems to not be so far from the 2014 census considering that OSM data isnt that much accurate in rural area \n",
    "https://themimu.info/sites/themimu.info/files/documents/TspProfiles_Census_Danuphyu_2014_ENG.pdf"
   ]
  },
  {
   "cell_type": "markdown",
   "metadata": {},
   "source": [
    "### Routing"
   ]
  },
  {
   "cell_type": "code",
   "execution_count": null,
   "metadata": {},
   "outputs": [],
   "source": [
    "# get the nearest network node to each point\n",
    "orig_node = ox.get_nearest_node(G, (17.269451, 95.583889))\n",
    "dest_node = ox.get_nearest_node(G, (17.261051, 95.580755))"
   ]
  },
  {
   "cell_type": "code",
   "execution_count": null,
   "metadata": {},
   "outputs": [],
   "source": [
    "# find the route between these nodes then plot it\n",
    "route = nx.shortest_path(G, orig_node, dest_node, weight='length')\n",
    "ox.plot_route_folium(G, route)"
   ]
  },
  {
   "cell_type": "code",
   "execution_count": null,
   "metadata": {},
   "outputs": [],
   "source": [
    "# how long is our route in meters?\n",
    "nx.shortest_path_length(G, orig_node, dest_node, weight='length')"
   ]
  },
  {
   "cell_type": "code",
   "execution_count": null,
   "metadata": {},
   "outputs": [],
   "source": [
    "# how far is it between these two nodes as the crow flies?\n",
    "ox.great_circle_vec(G.nodes[orig_node]['y'], G.nodes[orig_node]['x'],\n",
    "                    G.nodes[dest_node]['y'], G.nodes[dest_node]['x'])"
   ]
  },
  {
   "cell_type": "code",
   "execution_count": null,
   "metadata": {},
   "outputs": [],
   "source": []
  }
 ],
 "metadata": {
  "kernelspec": {
   "display_name": "Python 3",
   "language": "python",
   "name": "python3"
  },
  "language_info": {
   "codemirror_mode": {
    "name": "ipython",
    "version": 3
   },
   "file_extension": ".py",
   "mimetype": "text/x-python",
   "name": "python",
   "nbconvert_exporter": "python",
   "pygments_lexer": "ipython3",
   "version": "3.7.3"
  }
 },
 "nbformat": 4,
 "nbformat_minor": 2
}
