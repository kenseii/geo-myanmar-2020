{
 "cells": [
  {
   "cell_type": "code",
   "execution_count": null,
   "metadata": {},
   "outputs": [],
   "source": [
    "# imports\n",
    "import matplotlib.pyplot as plt\n",
    "import numpy as np\n",
    "import osmnx as ox\n",
    "import fiona\n",
    "from shapely.geometry import Point, Polygon, MultiPolygon\n",
    "import geopandas as gpd\n",
    "import pandas as pd\n",
    "from pyproj import Proj, transform\n",
    "ox.config(use_cache=True, log_console=True)\n",
    "ox.__version__"
   ]
  },
  {
   "cell_type": "markdown",
   "metadata": {},
   "source": [
    "### let's get polygons of some certain areas and add them to a dataframe"
   ]
  },
  {
   "cell_type": "code",
   "execution_count": null,
   "metadata": {},
   "outputs": [],
   "source": [
    "place_names = ['Danubyu, Ayeyarwady Region, Myanmar', \n",
    "               'Gyobingauk, Bago Region, Myanmar',\n",
    "               'Katha, Shan Region, Myanmar']\n",
    "# https://www.citypopulation.de/Myanmar-Cities.html"
   ]
  },
  {
   "cell_type": "code",
   "execution_count": null,
   "metadata": {
    "scrolled": false
   },
   "outputs": [],
   "source": [
    "small_cities = ox.gdf_from_places(place_names, gdf_name='small_cities')\n",
    "small_cities"
   ]
  },
  {
   "cell_type": "markdown",
   "metadata": {},
   "source": [
    "### Evaluating if a certain point is inside a polygon"
   ]
  },
  {
   "cell_type": "code",
   "execution_count": null,
   "metadata": {},
   "outputs": [],
   "source": [
    "# Shwe Yaung Pya Sedi\n",
    "small_cities[\"geometry\"][0].contains(Point(95.585605, 17.271707))\n",
    "# anecdote time :-)"
   ]
  },
  {
   "cell_type": "code",
   "execution_count": null,
   "metadata": {},
   "outputs": [],
   "source": [
    "# project the geometry to the appropriate UTM zone then plot it\n",
    "small_cities = ox.project_gdf(small_cities)\n",
    "fig, ax = ox.plot_shape(small_cities)"
   ]
  },
  {
   "cell_type": "code",
   "execution_count": null,
   "metadata": {},
   "outputs": [],
   "source": [
    "# danubyu\n",
    "small_cities[\"geometry\"][0]"
   ]
  },
  {
   "cell_type": "code",
   "execution_count": null,
   "metadata": {},
   "outputs": [],
   "source": [
    "print(small_cities[\"geometry\"][0])"
   ]
  },
  {
   "cell_type": "code",
   "execution_count": null,
   "metadata": {},
   "outputs": [],
   "source": [
    "### loading cities from an external csv file \n",
    "df = pd.read_csv('data/vectors/cities5k.csv', encoding=\"utf-8\", sep=\",\", header=None, low_memory=False)\n",
    "df.head()"
   ]
  },
  {
   "cell_type": "code",
   "execution_count": null,
   "metadata": {},
   "outputs": [],
   "source": [
    "# rename the columns\n",
    "df2 = df[[1,4,5,14]]\n",
    "df2.columns = [\"name\", \"lat\", \"lng\", \"population\"]\n",
    "df2.head()"
   ]
  },
  {
   "cell_type": "code",
   "execution_count": null,
   "metadata": {},
   "outputs": [],
   "source": [
    "df2.query(\"name == 'Mandalay'\")"
   ]
  },
  {
   "cell_type": "code",
   "execution_count": null,
   "metadata": {},
   "outputs": [],
   "source": [
    "# create a geopandas object of the existing pandas df\n",
    "geometry = [Point(pos) for pos in zip(df2['lng'], df2['lat'])]\n",
    "gdf = gpd.GeoDataFrame(df2, geometry=geometry)"
   ]
  },
  {
   "cell_type": "code",
   "execution_count": null,
   "metadata": {},
   "outputs": [],
   "source": [
    "gdf.head()"
   ]
  },
  {
   "cell_type": "code",
   "execution_count": null,
   "metadata": {},
   "outputs": [],
   "source": [
    "gdf = gdf.drop(['lat', 'lng'], axis=1) # remove redundant data"
   ]
  },
  {
   "cell_type": "code",
   "execution_count": null,
   "metadata": {},
   "outputs": [],
   "source": [
    "gdf.plot(figsize=(8, 6));"
   ]
  },
  {
   "cell_type": "code",
   "execution_count": null,
   "metadata": {
    "scrolled": true
   },
   "outputs": [],
   "source": [
    "# get countries with more than 10 million people living in them\n",
    "bigcities = gdf[gdf.population > 10_000_000]\n",
    "bigcities = bigcities.sort_values(['population'], ascending=False)\n",
    "bigcities"
   ]
  },
  {
   "cell_type": "code",
   "execution_count": null,
   "metadata": {
    "scrolled": false
   },
   "outputs": [],
   "source": [
    "# load a countries dataset\n",
    "countries = gpd.read_file(\"data/vectors/countries/ne_10m_admin_0_countries.shp\", encoding=\"utf-8\")\n",
    "countries.head()"
   ]
  },
  {
   "cell_type": "code",
   "execution_count": null,
   "metadata": {
    "scrolled": true
   },
   "outputs": [],
   "source": [
    "countries_4cols = countries[[\"NAME\", \"POP_EST\", \"geometry\"]]\n",
    "countries_4cols.head()"
   ]
  },
  {
   "cell_type": "code",
   "execution_count": null,
   "metadata": {
    "scrolled": false
   },
   "outputs": [],
   "source": [
    "myanmar = countries_4cols[countries_4cols['NAME'] == \"Myanmar\"]\n",
    "myanmar"
   ]
  },
  {
   "cell_type": "code",
   "execution_count": null,
   "metadata": {
    "scrolled": true
   },
   "outputs": [],
   "source": [
    "myanmar.plot(figsize=(15,9));"
   ]
  },
  {
   "cell_type": "code",
   "execution_count": null,
   "metadata": {
    "scrolled": true
   },
   "outputs": [],
   "source": [
    "restoftheworld = countries_4cols[countries_4cols['NAME'] != \"Myanmar\"]\n",
    "\n",
    "ax = myanmar.plot(figsize=(15,9), color=\"red\")\n",
    "restoftheworld.plot(ax=ax, color=\"blue\");"
   ]
  },
  {
   "cell_type": "markdown",
   "metadata": {},
   "source": [
    "### looking at cities in myanmar"
   ]
  },
  {
   "cell_type": "code",
   "execution_count": null,
   "metadata": {
    "scrolled": false
   },
   "outputs": [],
   "source": [
    "myanmarcities = gdf[gdf.within(myanmar.iloc[0].geometry)]\n",
    "myanmarcities.head()"
   ]
  },
  {
   "cell_type": "markdown",
   "metadata": {},
   "source": [
    "### list most populated cities in myanmar"
   ]
  },
  {
   "cell_type": "code",
   "execution_count": null,
   "metadata": {},
   "outputs": [],
   "source": [
    "myanmarcities.sort_values('population', ascending=False).head()"
   ]
  },
  {
   "cell_type": "markdown",
   "metadata": {},
   "source": [
    "### listing airports in myanmar"
   ]
  },
  {
   "cell_type": "code",
   "execution_count": null,
   "metadata": {},
   "outputs": [],
   "source": [
    "# first we read in the data about airports\n",
    "airports = gpd.read_file(\"data/vectors/airports/ne_10m_airports.shp\", encoding=\"utf-8\")\n",
    "airports.head()"
   ]
  },
  {
   "cell_type": "code",
   "execution_count": null,
   "metadata": {},
   "outputs": [],
   "source": [
    "myanmarairports = airports[airports.within(myanmar.iloc[0].geometry)]\n",
    "myanmarairports.head()"
   ]
  }
 ],
 "metadata": {
  "kernelspec": {
   "display_name": "Python 3",
   "language": "python",
   "name": "python3"
  },
  "language_info": {
   "codemirror_mode": {
    "name": "ipython",
    "version": 3
   },
   "file_extension": ".py",
   "mimetype": "text/x-python",
   "name": "python",
   "nbconvert_exporter": "python",
   "pygments_lexer": "ipython3",
   "version": "3.7.3"
  }
 },
 "nbformat": 4,
 "nbformat_minor": 2
}
